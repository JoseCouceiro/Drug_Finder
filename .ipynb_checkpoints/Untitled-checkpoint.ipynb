{
 "cells": [
  {
   "cell_type": "code",
   "execution_count": 79,
   "id": "23546115-c5da-453e-a239-05bf869bfd25",
   "metadata": {},
   "outputs": [],
   "source": [
    "import re"
   ]
  },
  {
   "cell_type": "code",
   "execution_count": 106,
   "id": "e74f448a-626a-4379-bd0e-6e831d68fb8c",
   "metadata": {},
   "outputs": [
    {
     "name": "stdout",
     "output_type": "stream",
     "text": [
      "404\n"
     ]
    }
   ],
   "source": [
    "import requests\n",
    "\n",
    "__base_url_info = \"https://cima.aemps.es/cima/dochtml/p/\"\n",
    "\n",
    "__url = __base_url_info + \"20000836/Prospecto.html\"\n",
    "\n",
    "__webpage = requests.get(__url)\n",
    "\n",
    "print(__webpage.status_code)"
   ]
  },
  {
   "cell_type": "code",
   "execution_count": 168,
   "id": "d4ffa22d-a676-44c0-9ec0-84e86d68a03c",
   "metadata": {},
   "outputs": [
    {
     "data": {
      "text/plain": [
       "['hipertension', 'arterial', 'pulmonar']"
      ]
     },
     "execution_count": 168,
     "metadata": {},
     "output_type": "execute_result"
    }
   ],
   "source": [
    "m = re.compile(r'hipertension|arterial|pulmonar')\n",
    "m.pattern\n",
    "'hipertension arterial pulmonar'.split()"
   ]
  },
  {
   "cell_type": "code",
   "execution_count": 196,
   "id": "2344f630-5f2e-450e-9e80-73b84eb24637",
   "metadata": {},
   "outputs": [],
   "source": [
    "data = [{\n",
    "    \n",
    "    \"seccion\":\"4.1\",\n",
    "    \"texto\": 'pulmonar',\n",
    "    \"contiene\":1\n",
    "    },\n",
    "    {\n",
    "    \n",
    "    \"seccion\":\"4.1\",\n",
    "    \"texto\": 'pulmonar',\n",
    "    \"contiene\":1\n",
    "    }\n",
    "        \n",
    "        ]"
   ]
  },
  {
   "cell_type": "code",
   "execution_count": 197,
   "id": "63319a70-1105-4e13-ba8a-5e417948a776",
   "metadata": {},
   "outputs": [],
   "source": [
    "r = requests.post(url = \"https://cima.aemps.es/cima/rest/buscarEnFichaTecnica\", json = data) #, params={'pagina': 1})"
   ]
  },
  {
   "cell_type": "code",
   "execution_count": 198,
   "id": "b88d41ef-b234-4e9f-9185-6298932d162c",
   "metadata": {},
   "outputs": [
    {
     "data": {
      "text/plain": [
       "<Response [200]>"
      ]
     },
     "execution_count": 198,
     "metadata": {},
     "output_type": "execute_result"
    }
   ],
   "source": [
    "r"
   ]
  },
  {
   "cell_type": "code",
   "execution_count": 199,
   "id": "b72f168f-3bd0-42e6-a3f1-7f5f82d3754f",
   "metadata": {},
   "outputs": [
    {
     "name": "stdout",
     "output_type": "stream",
     "text": [
      "ACUPREL 20 mg COMPRIMIDOS RECUBIERTOS CON PELICULA\n",
      "ACUPREL 40 mg COMPRIMIDOS RECUBIERTOS CON PELICULA\n",
      "ACUPREL 5 mg COMPRIMIDOS RECUBIERTOS CON PELICULA\n",
      "ADALAT OROS 30 mg, COMPRIMIDOS DE LIBERACION PROLONGADA\n",
      "ADALAT OROS 60 mg, COMPRIMIDOS DE LIBERACION PROLONGADA\n",
      "ADALAT RETARD 20 mg COMPRIMIDOS DE LIBERACION MODIFICADA\n",
      "ADEMPAS 1 mg comprimidos recubiertos con pelicula\n",
      "ADEMPAS 1,5 mg comprimidos recubiertos con pelicula\n",
      "ADEMPAS 2 mg comprimidos recubiertos con pelicula\n",
      "ADEMPAS 2,5 mg comprimidos recubiertos con pelicula\n",
      "ALDACTACINE 25 mg/15 mg COMPRIMIDOS\n",
      "ALDACTONE 100 mg COMPRIMIDOS RECUBIERTOS CON PELICULA\n",
      "ALDACTONE 25 mg COMPRIMIDOS RECUBIERTOS CON PELICULA\n",
      "AMERIDE 5 mg/50 mg COMPRIMIDOS\n",
      "AMLODIPINO CINFA 10 mg COMPRIMIDOS EFG\n",
      "AMLODIPINO CINFA 5 mg COMPRIMIDOS EFG\n",
      "AMLODIPINO NORMON 10 mg COMPRIMIDOS EFG\n",
      "AMLODIPINO NORMON 5 mg COMPRIMIDOS EFG\n",
      "AMLODIPINO SANDOZ 10 mg COMPRIMIDOS EFG\n",
      "AMLODIPINO SANDOZ 5 MG COMPRIMIDOS EFG\n",
      "AMLODIPINO TECNIGEN 10 mg COMPRIMIDOS EFG\n",
      "AMLODIPINO TECNIGEN 5 mg COMPRIMIDOS EFG\n",
      "ARTEDIL 10 mg COMPRIMIDOS\n",
      "ARTEDIL 20 mg COMPRIMIDOS\n",
      "ATENOLOL CINFA 100 mg COMPRIMIDOS EFG\n",
      "ACUPREL 20 mg COMPRIMIDOS RECUBIERTOS CON PELICULA\n",
      "ACUPREL 40 mg COMPRIMIDOS RECUBIERTOS CON PELICULA\n",
      "ACUPREL 5 mg COMPRIMIDOS RECUBIERTOS CON PELICULA\n",
      "ADALAT OROS 30 mg, COMPRIMIDOS DE LIBERACION PROLONGADA\n",
      "ADALAT OROS 60 mg, COMPRIMIDOS DE LIBERACION PROLONGADA\n",
      "ADALAT RETARD 20 mg COMPRIMIDOS DE LIBERACION MODIFICADA\n",
      "ADEMPAS 1 mg comprimidos recubiertos con pelicula\n",
      "ADEMPAS 1,5 mg comprimidos recubiertos con pelicula\n",
      "ADEMPAS 2 mg comprimidos recubiertos con pelicula\n",
      "ADEMPAS 2,5 mg comprimidos recubiertos con pelicula\n",
      "ALDACTACINE 25 mg/15 mg COMPRIMIDOS\n",
      "ALDACTONE 100 mg COMPRIMIDOS RECUBIERTOS CON PELICULA\n",
      "ALDACTONE 25 mg COMPRIMIDOS RECUBIERTOS CON PELICULA\n",
      "AMERIDE 5 mg/50 mg COMPRIMIDOS\n",
      "AMLODIPINO CINFA 10 mg COMPRIMIDOS EFG\n",
      "AMLODIPINO CINFA 5 mg COMPRIMIDOS EFG\n",
      "AMLODIPINO NORMON 10 mg COMPRIMIDOS EFG\n",
      "AMLODIPINO NORMON 5 mg COMPRIMIDOS EFG\n",
      "AMLODIPINO SANDOZ 10 mg COMPRIMIDOS EFG\n",
      "AMLODIPINO SANDOZ 5 MG COMPRIMIDOS EFG\n",
      "AMLODIPINO TECNIGEN 10 mg COMPRIMIDOS EFG\n",
      "AMLODIPINO TECNIGEN 5 mg COMPRIMIDOS EFG\n",
      "ARTEDIL 10 mg COMPRIMIDOS\n",
      "ARTEDIL 20 mg COMPRIMIDOS\n",
      "ATENOLOL CINFA 100 mg COMPRIMIDOS EFG\n",
      "ACUPREL 20 mg COMPRIMIDOS RECUBIERTOS CON PELICULA\n",
      "ACUPREL 40 mg COMPRIMIDOS RECUBIERTOS CON PELICULA\n",
      "ACUPREL 5 mg COMPRIMIDOS RECUBIERTOS CON PELICULA\n",
      "ADALAT OROS 30 mg, COMPRIMIDOS DE LIBERACION PROLONGADA\n",
      "ADALAT OROS 60 mg, COMPRIMIDOS DE LIBERACION PROLONGADA\n",
      "ADALAT RETARD 20 mg COMPRIMIDOS DE LIBERACION MODIFICADA\n",
      "ADEMPAS 1 mg comprimidos recubiertos con pelicula\n",
      "ADEMPAS 1,5 mg comprimidos recubiertos con pelicula\n",
      "ADEMPAS 2 mg comprimidos recubiertos con pelicula\n",
      "ADEMPAS 2,5 mg comprimidos recubiertos con pelicula\n",
      "ALDACTACINE 25 mg/15 mg COMPRIMIDOS\n",
      "ALDACTONE 100 mg COMPRIMIDOS RECUBIERTOS CON PELICULA\n",
      "ALDACTONE 25 mg COMPRIMIDOS RECUBIERTOS CON PELICULA\n",
      "AMERIDE 5 mg/50 mg COMPRIMIDOS\n",
      "AMLODIPINO CINFA 10 mg COMPRIMIDOS EFG\n",
      "AMLODIPINO CINFA 5 mg COMPRIMIDOS EFG\n",
      "AMLODIPINO NORMON 10 mg COMPRIMIDOS EFG\n",
      "AMLODIPINO NORMON 5 mg COMPRIMIDOS EFG\n",
      "AMLODIPINO SANDOZ 10 mg COMPRIMIDOS EFG\n",
      "AMLODIPINO SANDOZ 5 MG COMPRIMIDOS EFG\n",
      "AMLODIPINO TECNIGEN 10 mg COMPRIMIDOS EFG\n",
      "AMLODIPINO TECNIGEN 5 mg COMPRIMIDOS EFG\n",
      "ARTEDIL 10 mg COMPRIMIDOS\n",
      "ARTEDIL 20 mg COMPRIMIDOS\n",
      "ATENOLOL CINFA 100 mg COMPRIMIDOS EFG\n",
      "ACUPREL 20 mg COMPRIMIDOS RECUBIERTOS CON PELICULA\n",
      "ACUPREL 40 mg COMPRIMIDOS RECUBIERTOS CON PELICULA\n",
      "ACUPREL 5 mg COMPRIMIDOS RECUBIERTOS CON PELICULA\n",
      "ADALAT OROS 30 mg, COMPRIMIDOS DE LIBERACION PROLONGADA\n",
      "ADALAT OROS 60 mg, COMPRIMIDOS DE LIBERACION PROLONGADA\n",
      "ADALAT RETARD 20 mg COMPRIMIDOS DE LIBERACION MODIFICADA\n",
      "ADEMPAS 1 mg comprimidos recubiertos con pelicula\n",
      "ADEMPAS 1,5 mg comprimidos recubiertos con pelicula\n",
      "ADEMPAS 2 mg comprimidos recubiertos con pelicula\n",
      "ADEMPAS 2,5 mg comprimidos recubiertos con pelicula\n",
      "ALDACTACINE 25 mg/15 mg COMPRIMIDOS\n",
      "ALDACTONE 100 mg COMPRIMIDOS RECUBIERTOS CON PELICULA\n",
      "ALDACTONE 25 mg COMPRIMIDOS RECUBIERTOS CON PELICULA\n",
      "AMERIDE 5 mg/50 mg COMPRIMIDOS\n",
      "AMLODIPINO CINFA 10 mg COMPRIMIDOS EFG\n",
      "AMLODIPINO CINFA 5 mg COMPRIMIDOS EFG\n",
      "AMLODIPINO NORMON 10 mg COMPRIMIDOS EFG\n",
      "AMLODIPINO NORMON 5 mg COMPRIMIDOS EFG\n",
      "AMLODIPINO SANDOZ 10 mg COMPRIMIDOS EFG\n",
      "AMLODIPINO SANDOZ 5 MG COMPRIMIDOS EFG\n",
      "AMLODIPINO TECNIGEN 10 mg COMPRIMIDOS EFG\n",
      "AMLODIPINO TECNIGEN 5 mg COMPRIMIDOS EFG\n",
      "ARTEDIL 10 mg COMPRIMIDOS\n",
      "ARTEDIL 20 mg COMPRIMIDOS\n",
      "ATENOLOL CINFA 100 mg COMPRIMIDOS EFG\n"
     ]
    }
   ],
   "source": [
    "i = 0\n",
    "for pag in r.json():\n",
    "    i += 1\n",
    "    for item in r.json()['resultados']:\n",
    "        print(item['nombre'])\n"
   ]
  },
  {
   "cell_type": "code",
   "execution_count": 195,
   "id": "b35e7588-b21a-4c3a-9eab-44da3f2c44ae",
   "metadata": {},
   "outputs": [
    {
     "data": {
      "text/plain": [
       "4"
      ]
     },
     "execution_count": 195,
     "metadata": {},
     "output_type": "execute_result"
    }
   ],
   "source": [
    "len(r.json())"
   ]
  },
  {
   "cell_type": "code",
   "execution_count": 116,
   "id": "77420e5e-88f2-48bb-a58c-035eb822032b",
   "metadata": {},
   "outputs": [
    {
     "data": {
      "text/plain": [
       "'hdipertensión arterial pulmonar'"
      ]
     },
     "execution_count": 116,
     "metadata": {},
     "output_type": "execute_result"
    }
   ],
   "source": [
    "m = re.compile('hdipertensión arterial pulmonar')\n",
    "m.pattern"
   ]
  },
  {
   "cell_type": "code",
   "execution_count": 98,
   "id": "423a1b5d-ab64-4b20-b2b0-28b604032a54",
   "metadata": {},
   "outputs": [
    {
     "data": {
      "text/plain": [
       "<re.Match object; span=(0, 5), match='hiper'>"
      ]
     },
     "execution_count": 98,
     "metadata": {},
     "output_type": "execute_result"
    }
   ],
   "source": [
    "result = m.match('hipertension')\n",
    "result"
   ]
  },
  {
   "cell_type": "code",
   "execution_count": null,
   "id": "32a8bac3-4614-4de1-9901-75c0bc422c5a",
   "metadata": {},
   "outputs": [],
   "source": []
  }
 ],
 "metadata": {
  "kernelspec": {
   "display_name": "Python 3 (ipykernel)",
   "language": "python",
   "name": "python3"
  },
  "language_info": {
   "codemirror_mode": {
    "name": "ipython",
    "version": 3
   },
   "file_extension": ".py",
   "mimetype": "text/x-python",
   "name": "python",
   "nbconvert_exporter": "python",
   "pygments_lexer": "ipython3",
   "version": "3.9.13"
  }
 },
 "nbformat": 4,
 "nbformat_minor": 5
}
