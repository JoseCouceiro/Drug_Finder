{
 "cells": [
  {
   "cell_type": "code",
   "execution_count": 1,
   "id": "771ecb03-8a79-4f14-bf1e-e6aee65542df",
   "metadata": {},
   "outputs": [],
   "source": [
    "dict_1 = {'a':1,'b':2}\n",
    "dict_2 = {'c':3,'d':4}\n",
    "dict_3 = {'e':5,'f':6}\n",
    "dict_list = [dict_1,dict_2,dict_3]"
   ]
  },
  {
   "cell_type": "code",
   "execution_count": 2,
   "id": "f6b68531-3037-4d2e-aa05-590402f3fff6",
   "metadata": {},
   "outputs": [
    {
     "data": {
      "text/plain": [
       "{'a': 1, 'b': 2, 'c': 3, 'd': 4, 'e': 5, 'f': 6}"
      ]
     },
     "execution_count": 2,
     "metadata": {},
     "output_type": "execute_result"
    }
   ],
   "source": [
    "final_dic = {}\n",
    "for dic in dict_list:\n",
    "    final_dic.update(dic)\n",
    "final_dic\n",
    "    "
   ]
  },
  {
   "cell_type": "code",
   "execution_count": 3,
   "id": "d8863eb0-806e-4672-803b-fc30d44261da",
   "metadata": {},
   "outputs": [],
   "source": [
    "response_dict = {'pagina_1': {'a':1,'b':2}, 'pagina_2': {'c':3,'d':4}, 'pagina_3': {'e':5,'f':6}}"
   ]
  },
  {
   "cell_type": "code",
   "execution_count": 14,
   "id": "da35246d-8d62-48b8-8f7e-eb48318642df",
   "metadata": {},
   "outputs": [
    {
     "name": "stdout",
     "output_type": "stream",
     "text": [
      "pagina_1\n",
      "pagina_2\n",
      "pagina_3\n"
     ]
    }
   ],
   "source": [
    "for pagina,value in response_dict.items():\n",
    "    print(pagina)\n",
    "    "
   ]
  },
  {
   "cell_type": "code",
   "execution_count": 3,
   "id": "22454382-5d04-45ea-af48-410545ade792",
   "metadata": {},
   "outputs": [],
   "source": [
    "#pagina_1['resultados'][0]['nombre']\n",
    "#{\"pagina_1\": {\"resultados\": [{\"nombre\": \"PARACETAMOL}]}}\n",
    "#pagina_i['resultados'][0]['nombre']"
   ]
  },
  {
   "cell_type": "code",
   "execution_count": 50,
   "id": "f920ca53-aa65-45b3-9096-c1da74215aaf",
   "metadata": {},
   "outputs": [
    {
     "name": "stdout",
     "output_type": "stream",
     "text": [
      "26\n",
      "1\n",
      "1\n"
     ]
    }
   ],
   "source": [
    "medicine_num = 51\n",
    "resto = medicine_num % 25\n",
    "div = medicine_num / 25\n",
    "\n",
    "if resto == 0:\n",
    "    med_num = medicine_num\n",
    "elif resto == medicine_num:\n",
    "    med_num = medicine_num\n",
    "elif resto < 25:\n",
    "    med_num = 25*i + resto\n",
    "print(med_num)\n",
    "print(resto)\n",
    "print(i)"
   ]
  },
  {
   "cell_type": "code",
   "execution_count": 36,
   "id": "9b3ec0a0-7497-4cd2-811b-69a99b71d922",
   "metadata": {},
   "outputs": [
    {
     "data": {
      "text/plain": [
       "4"
      ]
     },
     "execution_count": 36,
     "metadata": {},
     "output_type": "execute_result"
    }
   ],
   "source": [
    "4%25"
   ]
  },
  {
   "cell_type": "code",
   "execution_count": null,
   "id": "0884c6fa-660c-4de4-8976-8256f3853a04",
   "metadata": {},
   "outputs": [],
   "source": []
  }
 ],
 "metadata": {
  "kernelspec": {
   "display_name": "Python 3 (ipykernel)",
   "language": "python",
   "name": "python3"
  },
  "language_info": {
   "codemirror_mode": {
    "name": "ipython",
    "version": 3
   },
   "file_extension": ".py",
   "mimetype": "text/x-python",
   "name": "python",
   "nbconvert_exporter": "python",
   "pygments_lexer": "ipython3",
   "version": "3.9.13"
  }
 },
 "nbformat": 4,
 "nbformat_minor": 5
}
